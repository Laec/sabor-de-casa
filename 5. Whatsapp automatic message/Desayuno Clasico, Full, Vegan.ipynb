{
 "cells": [
  {
   "cell_type": "code",
   "execution_count": 1,
   "id": "480f0896",
   "metadata": {
    "scrolled": true
   },
   "outputs": [],
   "source": [
    "import pandas as pd\n",
    "\n",
    "import gspread\n",
    "from oauth2client.service_account import ServiceAccountCredentials\n",
    "\n",
    "from pywhatkit import sendwhatmsg_instantly\n",
    "from time import sleep"
   ]
  },
  {
   "cell_type": "code",
   "execution_count": 3,
   "id": "e738f1a3",
   "metadata": {},
   "outputs": [],
   "source": [
    "# Api service\n",
    "scope = ['https://spreadsheets.google.com/feeds',\n",
    "         'https://www.googleapis.com/auth/drive']\n",
    "\n",
    "# Google sheet - Unique Id\n",
    "id_fromulario = ['12kz3XEp8lbgCMobJD_h2JY2WEsXneY0NCjuv_9I6sns',\n",
    "                '17PwSut4FuXhuK9hMZVJI5qy9UliL3o_pSfY14taLRyI']\n",
    "\n",
    "# Credentials to authenticate with Google\n",
    "creds = ServiceAccountCredentials.from_json_keyfile_name('sabordecasakey.json', scope)\n",
    "gc = gspread.authorize(creds)\n",
    "\n",
    "#Sheet\n",
    "sh = gc.open_by_key(id_fromulario[1])"
   ]
  },
  {
   "cell_type": "code",
   "execution_count": 12,
   "id": "06ef0c13",
   "metadata": {
    "scrolled": true
   },
   "outputs": [
    {
     "ename": "KeyboardInterrupt",
     "evalue": "",
     "output_type": "error",
     "traceback": [
      "\u001b[1;31m---------------------------------------------------------------------------\u001b[0m",
      "\u001b[1;31mKeyboardInterrupt\u001b[0m                         Traceback (most recent call last)",
      "Cell \u001b[1;32mIn[12], line 16\u001b[0m\n\u001b[0;32m     14\u001b[0m \u001b[38;5;66;03m#Actualiza campo\u001b[39;00m\n\u001b[0;32m     15\u001b[0m hoja_datos\u001b[38;5;241m.\u001b[39mupdate_cell(\u001b[38;5;241m2\u001b[39m \u001b[38;5;241m+\u001b[39m i, \u001b[38;5;241m9\u001b[39m, \u001b[38;5;28;01mTrue\u001b[39;00m)\n\u001b[1;32m---> 16\u001b[0m \u001b[43msleep\u001b[49m\u001b[43m(\u001b[49m\u001b[38;5;241;43m5\u001b[39;49m\u001b[43m)\u001b[49m\n",
      "\u001b[1;31mKeyboardInterrupt\u001b[0m: "
     ]
    }
   ],
   "source": [
    "hoja_datos = [sh.worksheet(\"clasico\"),sh.worksheet(\"full\"),sh.worksheet(\"vegano\")]\n",
    "\n",
    "texto_desayunos = ['*! Gracias por realizar tu pedido de desayuno clásico con nosotros. Entendemos la importancia de ahorrar tiempo en las mañanas y estamos emocionados de ofrecerte un desayuno simple y satisfactorio. ¡Hablamos pronto y disfruta tu desayuno!',\n",
    "                  '*! Gracias por realizar tu pedido de desayuno full con nosotros. Entendemos la importancia de tener energía durante todo el día y estamos emocionados de ofrecerte un desayuno completo y satisfactorio para cubrir tus necesidades. Estamos aquí para asegurarnos de que tengas la energía que necesitas para afrontar tus desafíos diarios. ¡Hablamos pronto!',\n",
    "                  '*! Gracias por realizar la cotización del desayuno vegano. Estamos emocionados de tener la oportunidad de atender tus necesidades y deseamos brindarte un servicio excepcional. Por favor, no dudes en preguntar cualquier cosa que necesites saber. ¡Hablamos pronto!']\n",
    "\n",
    "for hoja,texto  in  zip(hoja_datos,texto_desayunos):\n",
    "    #Data Sheet\n",
    "    datos = hoja_datos.get_all_values()\n",
    "    #Sheet to DF\n",
    "    df = pd.DataFrame(datos[1:], columns=datos[0])\n",
    "\n",
    "    for i in df[df.Enviado == ''].index:\n",
    "        #Cotizacion\n",
    "        cotización = df.iloc[i]\n",
    "\n",
    "        #Datos\n",
    "        nombre = cotización['Nombre'].split()[0]\n",
    "        celular = cotización['Celular']\n",
    "        mensaje = 'Hola *' + nombre + texto'\n",
    "        \n",
    "        #Mensaje instantaneo\n",
    "        sendwhatmsg_instantly(\"+51\" + celular, mensaje,tab_close=True,close_time=4)\n",
    "        \n",
    "        #Actualiza campo de cliente contactado en sheet\n",
    "        hoja_datos.update_cell(2 + i, 9, True)\n",
    "        sleep(5)"
   ]
  },
  {
   "cell_type": "code",
   "execution_count": null,
   "id": "438de7dc",
   "metadata": {},
   "outputs": [],
   "source": []
  }
 ],
 "metadata": {
  "kernelspec": {
   "display_name": "Python 3 (ipykernel)",
   "language": "python",
   "name": "python3"
  },
  "language_info": {
   "codemirror_mode": {
    "name": "ipython",
    "version": 3
   },
   "file_extension": ".py",
   "mimetype": "text/x-python",
   "name": "python",
   "nbconvert_exporter": "python",
   "pygments_lexer": "ipython3",
   "version": "3.8.15"
  }
 },
 "nbformat": 4,
 "nbformat_minor": 5
}
