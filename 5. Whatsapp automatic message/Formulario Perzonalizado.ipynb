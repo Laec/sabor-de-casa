{
 "cells": [
  {
   "cell_type": "code",
   "execution_count": 1,
   "id": "480f0896",
   "metadata": {
    "scrolled": true
   },
   "outputs": [
    {
     "data": {
      "text/plain": [
       "'es_ES.utf8'"
      ]
     },
     "execution_count": 1,
     "metadata": {},
     "output_type": "execute_result"
    }
   ],
   "source": [
    "import pandas as pd\n",
    "\n",
    "import gspread\n",
    "from oauth2client.service_account import ServiceAccountCredentials\n",
    "\n",
    "from pywhatkit import sendwhatmsg_instantly\n",
    "from time import sleep"
   ]
  },
  {
   "cell_type": "code",
   "execution_count": 6,
   "id": "e738f1a3",
   "metadata": {},
   "outputs": [],
   "source": [
    "# Api service\n",
    "scope = ['https://spreadsheets.google.com/feeds',\n",
    "         'https://www.googleapis.com/auth/drive']\n",
    "\n",
    "# Google sheet - Unique Id\n",
    "id_fromulario = ['12kz3XEp8lbgCMobJD_h2JY2WEsXneY0NCjuv_9I6sns',\n",
    "                '17PwSut4FuXhuK9hMZVJI5qy9UliL3o_pSfY14taLRyI']\n",
    "\n",
    "# Credentials to authenticate with Google\n",
    "creds = ServiceAccountCredentials.from_json_keyfile_name('sabordecasakey.json', scope)\n",
    "gc = gspread.authorize(creds)\n",
    "\n",
    "#Sheet\n",
    "sh = gc.open_by_key(id_fromulario[0])"
   ]
  },
  {
   "cell_type": "code",
   "execution_count": 7,
   "id": "cd02d960",
   "metadata": {},
   "outputs": [],
   "source": [
    "#Data Sheet\n",
    "hoja_datos = sh.sheet1\n",
    "datos = hoja_datos.get_all_values()"
   ]
  },
  {
   "cell_type": "code",
   "execution_count": 8,
   "id": "ffcf87af",
   "metadata": {
    "scrolled": true
   },
   "outputs": [
    {
     "data": {
      "text/html": [
       "<div>\n",
       "<style scoped>\n",
       "    .dataframe tbody tr th:only-of-type {\n",
       "        vertical-align: middle;\n",
       "    }\n",
       "\n",
       "    .dataframe tbody tr th {\n",
       "        vertical-align: top;\n",
       "    }\n",
       "\n",
       "    .dataframe thead th {\n",
       "        text-align: right;\n",
       "    }\n",
       "</style>\n",
       "<table border=\"1\" class=\"dataframe\">\n",
       "  <thead>\n",
       "    <tr style=\"text-align: right;\">\n",
       "      <th></th>\n",
       "      <th>Fecha</th>\n",
       "      <th>URL</th>\n",
       "      <th>form_name</th>\n",
       "      <th>Nombres y Apellidos</th>\n",
       "      <th>Celular</th>\n",
       "      <th>Correo</th>\n",
       "      <th>Consulta</th>\n",
       "      <th>Genero</th>\n",
       "      <th>Enviado</th>\n",
       "    </tr>\n",
       "  </thead>\n",
       "  <tbody>\n",
       "    <tr>\n",
       "      <th>0</th>\n",
       "      <td>Febrero 5, 2023 11:17 pm</td>\n",
       "      <td>https://sabordecasa.hackspace.pe/</td>\n",
       "      <td>Form-contactanos</td>\n",
       "      <td>Austhin 3</td>\n",
       "      <td>967130241</td>\n",
       "      <td>astin3@gmail.com</td>\n",
       "      <td></td>\n",
       "      <td>Masculino</td>\n",
       "      <td>TRUE</td>\n",
       "    </tr>\n",
       "    <tr>\n",
       "      <th>1</th>\n",
       "      <td>Febrero 5, 2023 11:23 pm</td>\n",
       "      <td>https://sabordecasa.hackspace.pe/</td>\n",
       "      <td>Form-contactanos</td>\n",
       "      <td>asthin 4</td>\n",
       "      <td>967130241</td>\n",
       "      <td>astin4@gmail.com</td>\n",
       "      <td></td>\n",
       "      <td>Masculino</td>\n",
       "      <td></td>\n",
       "    </tr>\n",
       "    <tr>\n",
       "      <th>2</th>\n",
       "      <td>Febrero 5, 2023 11:24 pm</td>\n",
       "      <td>https://sabordecasa.hackspace.pe/</td>\n",
       "      <td>Form-contactanos</td>\n",
       "      <td>Roberto</td>\n",
       "      <td>960536227</td>\n",
       "      <td>lhgbsui@gmail.com</td>\n",
       "      <td></td>\n",
       "      <td>Femenino</td>\n",
       "      <td></td>\n",
       "    </tr>\n",
       "    <tr>\n",
       "      <th>3</th>\n",
       "      <td>Febrero 5, 2023 11:28 pm</td>\n",
       "      <td>https://sabordecasa.hackspace.pe/</td>\n",
       "      <td>Form-contactanos</td>\n",
       "      <td>Astin 5</td>\n",
       "      <td>967130241</td>\n",
       "      <td>astin5@gmail.com</td>\n",
       "      <td></td>\n",
       "      <td>Masculino</td>\n",
       "      <td></td>\n",
       "    </tr>\n",
       "    <tr>\n",
       "      <th>4</th>\n",
       "      <td>Febrero 5, 2023 11:29 pm</td>\n",
       "      <td>https://sabordecasa.hackspace.pe/</td>\n",
       "      <td>Form-contactanos</td>\n",
       "      <td>astin 6</td>\n",
       "      <td>967130241</td>\n",
       "      <td>astin6@gmail.com</td>\n",
       "      <td>ahora si debe funcionar</td>\n",
       "      <td>Masculino</td>\n",
       "      <td></td>\n",
       "    </tr>\n",
       "  </tbody>\n",
       "</table>\n",
       "</div>"
      ],
      "text/plain": [
       "                      Fecha                                URL  \\\n",
       "0  Febrero 5, 2023 11:17 pm  https://sabordecasa.hackspace.pe/   \n",
       "1  Febrero 5, 2023 11:23 pm  https://sabordecasa.hackspace.pe/   \n",
       "2  Febrero 5, 2023 11:24 pm  https://sabordecasa.hackspace.pe/   \n",
       "3  Febrero 5, 2023 11:28 pm  https://sabordecasa.hackspace.pe/   \n",
       "4  Febrero 5, 2023 11:29 pm  https://sabordecasa.hackspace.pe/   \n",
       "\n",
       "          form_name Nombres y Apellidos    Celular             Correo  \\\n",
       "0  Form-contactanos           Austhin 3  967130241   astin3@gmail.com   \n",
       "1  Form-contactanos            asthin 4  967130241   astin4@gmail.com   \n",
       "2  Form-contactanos             Roberto  960536227  lhgbsui@gmail.com   \n",
       "3  Form-contactanos             Astin 5  967130241   astin5@gmail.com   \n",
       "4  Form-contactanos             astin 6  967130241   astin6@gmail.com   \n",
       "\n",
       "                  Consulta     Genero Enviado  \n",
       "0                           Masculino    TRUE  \n",
       "1                           Masculino          \n",
       "2                            Femenino          \n",
       "3                           Masculino          \n",
       "4  ahora si debe funcionar  Masculino          "
      ]
     },
     "execution_count": 8,
     "metadata": {},
     "output_type": "execute_result"
    }
   ],
   "source": [
    "#Sheet to DF\n",
    "df = pd.DataFrame(datos[1:], columns=datos[0])\n",
    "df.tail()"
   ]
  },
  {
   "cell_type": "code",
   "execution_count": 12,
   "id": "06ef0c13",
   "metadata": {},
   "outputs": [
    {
     "ename": "KeyboardInterrupt",
     "evalue": "",
     "output_type": "error",
     "traceback": [
      "\u001b[1;31m---------------------------------------------------------------------------\u001b[0m",
      "\u001b[1;31mKeyboardInterrupt\u001b[0m                         Traceback (most recent call last)",
      "Cell \u001b[1;32mIn[12], line 16\u001b[0m\n\u001b[0;32m     14\u001b[0m \u001b[38;5;66;03m#Actualiza campo\u001b[39;00m\n\u001b[0;32m     15\u001b[0m hoja_datos\u001b[38;5;241m.\u001b[39mupdate_cell(\u001b[38;5;241m2\u001b[39m \u001b[38;5;241m+\u001b[39m i, \u001b[38;5;241m9\u001b[39m, \u001b[38;5;28;01mTrue\u001b[39;00m)\n\u001b[1;32m---> 16\u001b[0m \u001b[43msleep\u001b[49m\u001b[43m(\u001b[49m\u001b[38;5;241;43m5\u001b[39;49m\u001b[43m)\u001b[49m\n",
      "\u001b[1;31mKeyboardInterrupt\u001b[0m: "
     ]
    }
   ],
   "source": [
    "#send message to whatsapp\n",
    "for i in df[df.Enviado == ''].index:\n",
    "    #Cotizacion\n",
    "    cotización = df.iloc[i]\n",
    "    \n",
    "    #Datos    \n",
    "    nombre = cotización['Nombres y Apellidos'].split()[0]\n",
    "    celular = cotización['Celular']\n",
    "    mensaje = 'Hola *' + nombre + '*! Muchas gracias por realizar una cotización de *Desayuno Personalizado* con nosotros. Estamos emocionados de ayudarte a empezar el día con un delicioso desayuno a tu gusto. Estamos aquí para hacer de tu experiencia algo especial y memorable. ¡Estaremos en contacto pronto!'\n",
    "    \n",
    "    #Mensaje instantaneo\n",
    "    sendwhatmsg_instantly(\"+51\" + celular, mensaje,tab_close=True,close_time=4)\n",
    "    \n",
    "    #Actualiza campo de cliente contactado en sheet\n",
    "    hoja_datos.update_cell(2 + i, 9, True)\n",
    "    sleep(5)"
   ]
  }
 ],
 "metadata": {
  "kernelspec": {
   "display_name": "Python 3 (ipykernel)",
   "language": "python",
   "name": "python3"
  },
  "language_info": {
   "codemirror_mode": {
    "name": "ipython",
    "version": 3
   },
   "file_extension": ".py",
   "mimetype": "text/x-python",
   "name": "python",
   "nbconvert_exporter": "python",
   "pygments_lexer": "ipython3",
   "version": "3.8.15"
  }
 },
 "nbformat": 4,
 "nbformat_minor": 5
}
