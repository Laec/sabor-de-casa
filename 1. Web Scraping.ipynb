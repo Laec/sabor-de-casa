{
 "cells": [
  {
   "cell_type": "code",
   "execution_count": 1,
   "id": "108fc537",
   "metadata": {
    "scrolled": true
   },
   "outputs": [],
   "source": [
    "from facebook_scraper import get_posts\n",
    "from facebook_scraper import set_user_agent\n",
    "import json\n",
    "from datetime import datetime\n",
    "import time"
   ]
  },
  {
   "cell_type": "code",
   "execution_count": 2,
   "id": "24af8569",
   "metadata": {},
   "outputs": [],
   "source": [
    "#Facebook pages \n",
    "paginas = ['laluchasangucheriacriolla','Laneverafit','Desayunosfit','patriosangucheria','ElChinitoSangucheria',\n",
    "           'delidesayunoscusco','DesayunoDelivery.pe','paraderov','eljardindejazmin','chinovegano','SeitanUrbanBistro',\n",
    "           'CarnivoroLaHamburgueseria','Lima141Sangucheria','sandwichpalermo','MonstruosPeru','MastikaSanguchesUrbanos']\n",
    "\n",
    "set_user_agent(\"Mozilla/5.0 (compatible; Googlebot/2.1; +http://www.google.com/bot.html)\")"
   ]
  },
  {
   "cell_type": "code",
   "execution_count": 25,
   "id": "60339ae8",
   "metadata": {},
   "outputs": [],
   "source": [
    "#Test\n",
    "data_json = list(get_posts('laluchasangucheriacriolla', pages=20,cookies=\"facebook.com_cookies.txt\",\n",
    "                           options={\"posts_per_page\": 200,\"progress\": True,\"allow_extra_requests\": False}))\n",
    "\n",
    "#Save JSON\n",
    "with open('laluchasangucheriacriolla' + '.json', 'w') as outfile:\n",
    "    json.dump(data_json, outfile, default=str)\n",
    "    \n",
    "print(\"Número de Posts: \",len(data_json))"
   ]
  },
  {
   "cell_type": "code",
   "execution_count": null,
   "id": "3485958c",
   "metadata": {
    "scrolled": false
   },
   "outputs": [],
   "source": [
    "for i in paginas:\n",
    "    #Request posts info\n",
    "    data_json = list(get_posts(i, pages=5,options={\"posts_per_page\": 200},cookies=\"facebook.com_cookies.txt\"))\n",
    "    #Print Number of posts\n",
    "    print(\"Número de Posts: \",len(data_json))\n",
    "    #Save JSON\n",
    "    with open(i + '.json', 'w') as outfile:\n",
    "        json.dump(data_json, outfile, default=str)\n",
    "    #Sleep 1 minute to avoid ban\n",
    "    time.sleep(60)"
   ]
  }
 ],
 "metadata": {
  "kernelspec": {
   "display_name": "Python 3 (ipykernel)",
   "language": "python",
   "name": "python3"
  },
  "language_info": {
   "codemirror_mode": {
    "name": "ipython",
    "version": 3
   },
   "file_extension": ".py",
   "mimetype": "text/x-python",
   "name": "python",
   "nbconvert_exporter": "python",
   "pygments_lexer": "ipython3",
   "version": "3.8.15"
  }
 },
 "nbformat": 4,
 "nbformat_minor": 5
}
